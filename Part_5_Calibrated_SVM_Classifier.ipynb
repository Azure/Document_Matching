{
 "cells": [
  {
   "cell_type": "markdown",
   "metadata": {},
   "source": [
    "# Document (QnA) Matching Data Science Process\n",
    "\n",
    "## Part 5: \n",
    "Calibrated Support Vector Machine Classifier\n",
    "\n",
    "### Overview\n",
    "\n",
    "This notebook is Part 1 of 5, in a series providing a step-by-step description of how to create discriminative training methods to match the correct answer to a given question. Using Python packages and custom code examples, we have implemented the basic framework that combines key phrase learning and latent topic modeling as described in the paper entitled [\"Modeling Multiword Phrases with Constrained Phrases Tree for Improved Topic Modeling of Conversational Speech\"](http://people.csail.mit.edu/hazen/publications/Hazen-SLT-2012.pdf) which was originally presented in the 2012 IEEE Workshop on Spoken Language Technology.\n",
    "\n",
    "Although the paper examines the use of the technology for analyzing human-to-human conversations, the techniques are quite general and can be applied to a wide range of natural language data including news stories, legal documents, research publications, social media forum discussions, customer feedback forms, product reviews, and many more.\n",
    "\n",
    "Also, we implement a Naive Bayes Classifier as described in the paper entitled [\"MCE Training Techniques for Topic Identification of Spoken Audio Documents\"](http://ieeexplore.ieee.org/abstract/document/5742980/). \n",
    "\n",
    "Part 5 of the series shows the implementation of One-versus-rest SVM Classifier. For the features used to train the Classifier, we use the Naive Bayes scores obtained from Part 4. \n",
    "\n",
    "Note: This notebook series are built under Python 3.5 and NLTK 3.2.2."
   ]
  },
  {
   "cell_type": "markdown",
   "metadata": {},
   "source": [
    "## Import required Python modules"
   ]
  },
  {
   "cell_type": "code",
   "execution_count": 36,
   "metadata": {
    "collapsed": false
   },
   "outputs": [],
   "source": [
    "import pandas as pd\n",
    "import math\n",
    "import gc\n",
    "import numpy as np\n",
    "import matplotlib\n",
    "import matplotlib.pyplot as plt\n",
    "from sklearn import svm\n",
    "from sklearn.calibration import CalibratedClassifierCV\n",
    "from IPython.display import display\n",
    "\n",
    "%matplotlib inline\n",
    "\n",
    "# suppress all warnings\n",
    "import warnings\n",
    "warnings.filterwarnings(\"ignore\")"
   ]
  },
  {
   "cell_type": "markdown",
   "metadata": {},
   "source": [
    "## Read trainQ and testQ into DataFrames"
   ]
  },
  {
   "cell_type": "code",
   "execution_count": 4,
   "metadata": {
    "collapsed": false
   },
   "outputs": [],
   "source": [
    "trainQ_url = 'https://mezsa.blob.core.windows.net/stackoverflow/trainQwithTokens.tsv'\n",
    "testQ_url = 'https://mezsa.blob.core.windows.net/stackoverflow/testQwithTokens.tsv'\n",
    "\n",
    "trainQ = pd.read_csv(trainQ_url, sep='\\t', index_col='Id', encoding='latin1')\n",
    "testQ = pd.read_csv(testQ_url, sep='\\t', index_col='Id', encoding='latin1')"
   ]
  },
  {
   "cell_type": "markdown",
   "metadata": {},
   "source": [
    "## Create Tokens to IDs Hash\n",
    "\n",
    "For each token in the entire vocabulary, we assign it an unique ID."
   ]
  },
  {
   "cell_type": "code",
   "execution_count": 5,
   "metadata": {
    "collapsed": true
   },
   "outputs": [],
   "source": [
    "# get Token to ID mapping: {Token: tokenId}\n",
    "def tokens_to_ids(tokens, featureHash):\n",
    "    token2IdHash = {}\n",
    "    for i in range(len(tokens)):\n",
    "        tokenList = tokens.iloc[i].split(',')\n",
    "        if featureHash is None:\n",
    "            for t in tokenList:\n",
    "                if t not in token2IdHash.keys():\n",
    "                    token2IdHash[t] = len(token2IdHash)\n",
    "        else:\n",
    "            for t in tokenList:\n",
    "                if t not in token2IdHash.keys() and t in list(featureHash.keys()):\n",
    "                    token2IdHash[t] = len(token2IdHash)\n",
    "            \n",
    "    return token2IdHash"
   ]
  },
  {
   "cell_type": "code",
   "execution_count": 6,
   "metadata": {
    "collapsed": false
   },
   "outputs": [],
   "source": [
    "token2IdHashInit = tokens_to_ids(trainQ['Tokens'], None)"
   ]
  },
  {
   "cell_type": "code",
   "execution_count": 7,
   "metadata": {
    "collapsed": false
   },
   "outputs": [
    {
     "name": "stdout",
     "output_type": "stream",
     "text": [
      "Total number of unique tokens in the TrainQ: 4977\n"
     ]
    }
   ],
   "source": [
    "print(\"Total number of unique tokens in the TrainQ: \" + str(len(token2IdHashInit)))"
   ]
  },
  {
   "cell_type": "markdown",
   "metadata": {},
   "source": [
    "## Create Count Matrix for Each Token in Each Answer"
   ]
  },
  {
   "cell_type": "code",
   "execution_count": 9,
   "metadata": {
    "collapsed": false
   },
   "outputs": [],
   "source": [
    "def count_matrix(frame, token2IdHash, uniqueAnswerId):\n",
    "    # create am empty matrix with the shape of:\n",
    "    # num_row = num of unique tokens\n",
    "    # num_column = num of unique answerIds (N_wA) or num of questions in testQ (tfMatrix)\n",
    "    # rowIdx = token2IdHash.values()\n",
    "    # colIdx = index of uniqueAnswerId (N_wA) or index of questions in testQ (tfMatrix)\n",
    "    num_row = len(token2IdHash)\n",
    "    if uniqueAnswerId is not None:  # get N_wA\n",
    "        num_column = len(uniqueAnswerId)\n",
    "    else:\n",
    "        num_column = len(frame)\n",
    "    countMatrix = np.empty(shape=(num_row, num_column))\n",
    "\n",
    "    # loop through each question in the frame to fill in the countMatrix with corresponding counts\n",
    "    for i in range(len(frame)):\n",
    "        tokens = frame['Tokens'].iloc[i].split(',')\n",
    "        if uniqueAnswerId is not None:   # get N_wA\n",
    "            answerId = frame['AnswerId'].iloc[i]\n",
    "            colIdx = uniqueAnswerId.index(answerId)\n",
    "        else:\n",
    "            colIdx = i\n",
    "            \n",
    "        for t in tokens:\n",
    "            if t in token2IdHash.keys():\n",
    "                rowIdx = token2IdHash[t]\n",
    "                countMatrix[rowIdx, colIdx] += 1\n",
    "\n",
    "    return countMatrix"
   ]
  },
  {
   "cell_type": "code",
   "execution_count": 10,
   "metadata": {
    "collapsed": true
   },
   "outputs": [],
   "source": [
    "# get unique answerId in ascending order\n",
    "uniqueAnswerId = list(np.unique(trainQ['AnswerId']))\n",
    "# calculate the count matrix of all training questions.\n",
    "N_wAInit = count_matrix(trainQ, token2IdHashInit, uniqueAnswerId)"
   ]
  },
  {
   "cell_type": "markdown",
   "metadata": {},
   "source": [
    "## Feature Selection Based on Posteriori Probability P(A|w) \n",
    "\n",
    "<img src=\"https://raw.githubusercontent.com/Azure/Document_Matching/master/pic/feature_selection.PNG?token=APoO9ioyiKq8Sx0dxZ5onqIzyy6ywUmEks5YnH6cwA%3D%3D\">"
   ]
  },
  {
   "cell_type": "code",
   "execution_count": 11,
   "metadata": {
    "collapsed": true
   },
   "outputs": [],
   "source": [
    "# calculate P(A): [P_A1, P_A2, ...]\n",
    "def prior_probability_answer(answerIds, uniqueAnswerId): \n",
    "    P_A = []\n",
    "    # convert a pandas series to a list\n",
    "    answerIds = list(answerIds)\n",
    "    \n",
    "    for id in uniqueAnswerId:\n",
    "        P_A.append(answerIds.count(id)/len(answerIds))\n",
    "    return np.array(P_A)"
   ]
  },
  {
   "cell_type": "code",
   "execution_count": 12,
   "metadata": {
    "collapsed": false
   },
   "outputs": [],
   "source": [
    "P_A = prior_probability_answer(trainQ['AnswerId'], uniqueAnswerId)"
   ]
  },
  {
   "cell_type": "code",
   "execution_count": 13,
   "metadata": {
    "collapsed": true
   },
   "outputs": [],
   "source": [
    "# calculate P(A|w)\n",
    "def posteriori_prob(N_wAInit, P_A, uniqueAnswerId):\n",
    "    # N_A is the total number of answers\n",
    "    N_A = len(uniqueAnswerId)\n",
    "    # N_w is the total number of times w appears over all documents \n",
    "    # rowSum of count matrix (N_wAInit)\n",
    "    N_wInit = np.sum(N_wAInit, axis = 1)\n",
    "    # P(A|w) = (N_w|A + N_A * P(A))/(N_w + N_A)\n",
    "    N = N_wAInit + N_A * P_A\n",
    "    D = N_wInit + N_A\n",
    "    P_Aw = np.divide(N.T, D).T    \n",
    "    \n",
    "    return P_Aw"
   ]
  },
  {
   "cell_type": "code",
   "execution_count": 14,
   "metadata": {
    "collapsed": true
   },
   "outputs": [],
   "source": [
    "P_Aw = posteriori_prob(N_wAInit, P_A, uniqueAnswerId)"
   ]
  },
  {
   "cell_type": "code",
   "execution_count": 15,
   "metadata": {
    "collapsed": false
   },
   "outputs": [],
   "source": [
    "# select the top N tokens w which maximize P(A|w) for each A.\n",
    "# get FeatureHash: {token: 1}\n",
    "def feature_selection(P_Aw, token2IdHashInit, topN):\n",
    "    featureHash = {}\n",
    "    # for each answer A, sort tokens w by P(A|w)\n",
    "    sortedIdxMatrix = np.argsort(P_Aw, axis=0)[::-1]\n",
    "    # select top N tokens for each answer A\n",
    "    topMatrix = sortedIdxMatrix[0:topN, :]\n",
    "    # for each token w in topMatrix, add w to FeatureHash if it has not already been included\n",
    "    topTokenIdList = np.reshape(topMatrix, topMatrix.shape[0] * topMatrix.shape[1])\n",
    "    # get ID to Token mapping: {tokenId: Token}\n",
    "    Id2TokenHashInit = {y:x for x, y in token2IdHashInit.items()}\n",
    "    \n",
    "    for tokenId in topTokenIdList:\n",
    "        token = Id2TokenHashInit[tokenId]\n",
    "        if token not in featureHash.keys():\n",
    "            featureHash[token] = 1\n",
    "    return featureHash"
   ]
  },
  {
   "cell_type": "code",
   "execution_count": 16,
   "metadata": {
    "collapsed": false
   },
   "outputs": [],
   "source": [
    "topN = 10\n",
    "featureHash = feature_selection(P_Aw, token2IdHashInit, topN)"
   ]
  },
  {
   "cell_type": "markdown",
   "metadata": {},
   "source": [
    "## Re-assign ID to Each Selected Token and Re-calculate Count Matrix\n",
    "\n",
    "After selecting the top N tokens of each answer, we use the collection of selected tokens for training and re-assign an ID to each selected token. Based on the new assigned IDs, we re-calculate the Count Matrix."
   ]
  },
  {
   "cell_type": "code",
   "execution_count": 17,
   "metadata": {
    "collapsed": false
   },
   "outputs": [],
   "source": [
    "token2IdHash = tokens_to_ids(trainQ['Tokens'], featureHash)"
   ]
  },
  {
   "cell_type": "code",
   "execution_count": 18,
   "metadata": {
    "collapsed": false,
    "scrolled": true
   },
   "outputs": [],
   "source": [
    "N_wA = count_matrix(trainQ, token2IdHash, uniqueAnswerId)"
   ]
  },
  {
   "cell_type": "markdown",
   "metadata": {},
   "source": [
    "## Calculate P(w) on Full Collection of Training Questions (w is selected token)\n",
    "\n",
    "<img src=\"https://raw.githubusercontent.com/Azure/Document_Matching/master/pic/P_w.PNG?token=APoO9vsVzM00o3cEfOPq5mUeQ_2eJK94ks5YnH6ywA%3D%3D\">"
   ]
  },
  {
   "cell_type": "code",
   "execution_count": 19,
   "metadata": {
    "collapsed": true
   },
   "outputs": [],
   "source": [
    "def feature_weights(N_wA, alpha):\n",
    "    # N_w is the total number of times w appears over all documents \n",
    "    # rowSum of count matrix (N_wA)\n",
    "    N_w = np.sum(N_wA, axis = 1)\n",
    "    # N_W is the total count of all words\n",
    "    N_W = np.sum(N_wA)\n",
    "    # N_V is the count of unique words in the vocabulary\n",
    "    N_V = N_wA.shape[0]\n",
    "    # P(w) = (N_w + 1*alpha) / (N_W +N_V*alpha)\n",
    "    N2 = N_w + 1 * alpha\n",
    "    D2 = N_W + alpha * N_V\n",
    "    P_w = N2/D2\n",
    "\n",
    "    return P_w"
   ]
  },
  {
   "cell_type": "code",
   "execution_count": 20,
   "metadata": {
    "collapsed": false
   },
   "outputs": [],
   "source": [
    "alpha = 0.0001\n",
    "P_w = feature_weights(N_wA, alpha)"
   ]
  },
  {
   "cell_type": "markdown",
   "metadata": {},
   "source": [
    "## Calculate Probability Function P(w|A) and P(w|NotA) on Training Data\n",
    "\n",
    "<img src=\"https://raw.githubusercontent.com/Azure/Document_Matching/master/pic/probability_function.PNG?token=APoO9rWEZ1g_OgvWT_pleQlhT2DEFw3tks5YnIHzwA%3D%3D\">"
   ]
  },
  {
   "cell_type": "code",
   "execution_count": 21,
   "metadata": {
    "collapsed": true
   },
   "outputs": [],
   "source": [
    "def word_probability_in_answer(N_wA, P_w, beta):\n",
    "    # N_V is the count of unique words in the vocabulary\n",
    "    N_V = N_wA.shape[0]\n",
    "    # N_WA is the total count of all words in questions on answer A \n",
    "    # colSum of count matrix (N_wA)\n",
    "    N_WA = np.sum(N_wA, axis=0)\n",
    "    # P(w|A) = (N_w|A + beta N_V P(w))/(N_W|A + beta * N_V)\n",
    "    N = (N_wA.T + beta * N_V * P_w).T\n",
    "    D = N_WA + beta * N_V\n",
    "    P_wA = N / D\n",
    "    \n",
    "    return P_wA"
   ]
  },
  {
   "cell_type": "code",
   "execution_count": 22,
   "metadata": {
    "collapsed": true
   },
   "outputs": [],
   "source": [
    "def word_probability_Notin_answer(N_wA, P_w, beta):\n",
    "    # N_V is the count of unique words in the vocabulary\n",
    "    N_V = N_wA.shape[0]\n",
    "    # N_wNotA is the count of w over all documents but not on answer A\n",
    "    # N_wNotA = N_w - N_wA\n",
    "    N_w = np.sum(N_wA, axis = 1)\n",
    "    N_wNotA = (N_w - N_wA.T).T\n",
    "    # N_WNotA is the count of all words over all documents but not on answer A\n",
    "    # N_WNotA = N_W - N_WA\n",
    "    N_W = np.sum(N_wA)\n",
    "    N_WA = np.sum(N_wA, axis=0)\n",
    "    N_WNotA = N_W - N_WA\n",
    "    # P(w|NotA) = (N_w|NotA + beta * N_V * P(w))/(N_W|NotA + beta * N_V)\n",
    "    N = (N_wNotA.T + beta * N_V * P_w).T\n",
    "    D = N_WNotA + beta * N_V\n",
    "    P_wNotA = N / D\n",
    "    \n",
    "    return P_wNotA"
   ]
  },
  {
   "cell_type": "code",
   "execution_count": 23,
   "metadata": {
    "collapsed": false
   },
   "outputs": [],
   "source": [
    "beta = 0.0001\n",
    "P_wA = word_probability_in_answer(N_wA, P_w, beta)\n",
    "P_wNotA = word_probability_Notin_answer(N_wA, P_w, beta)"
   ]
  },
  {
   "cell_type": "markdown",
   "metadata": {},
   "source": [
    "## Calculate Naive Bayes Weights\n",
    "\n",
    "<img src=\"https://raw.githubusercontent.com/Azure/Document_Matching/master/pic/NB_weight.PNG?token=APoO9s-2DejCvW03RgK6zXgiXX6UT5WWks5YnjiRwA%3D%3D\">"
   ]
  },
  {
   "cell_type": "code",
   "execution_count": 24,
   "metadata": {
    "collapsed": false
   },
   "outputs": [],
   "source": [
    "# given an answer set A, get the NB weights for each word w: {answerId: [(word_index1, weight1), (word_index2, weight2)]}\n",
    "NBWeights = np.log(P_wA / P_wNotA)"
   ]
  },
  {
   "cell_type": "markdown",
   "metadata": {},
   "source": [
    "## Calculate Normalized TF of Each Word w in Training and Test sets\n",
    "\n",
    "Each document/question d is typically represented by a feature vector x that represents the contents of d. Because different documents can have different lengths, it can be useful to apply L1 normalmalized feature vector x. \n",
    "\n",
    "<img src=\"https://raw.githubusercontent.com/Azure/Document_Matching/master/pic/tf.PNG?token=APoO9tMyEVzqoUJYT9ALcdF3_BryHHEVks5YnIQywA%3D%3D\">"
   ]
  },
  {
   "cell_type": "code",
   "execution_count": 25,
   "metadata": {
    "collapsed": false
   },
   "outputs": [],
   "source": [
    "def normalize_tf(frame, token2IdHash):\n",
    "    N_wQ = count_matrix(frame, token2IdHash, None)\n",
    "    N_WQ = np.sum(N_wQ, axis=0)\n",
    "    \n",
    "    # find the index where N_WQ is zero and remove those columns from N_wQ\n",
    "    removeIdx = np.where(N_WQ == 0)[0]\n",
    "    \n",
    "    if len(removeIdx) > 0:\n",
    "        # remove the questions where the TF is NaN\n",
    "        N_wQ = np.delete(N_wQ, removeIdx, axis=1)\n",
    "        N_WQ = np.delete(N_WQ, removeIdx, axis=0)\n",
    "        frame = frame.drop(frame.index[removeIdx])\n",
    "    \n",
    "    # x_w = P_wd = count(w)/sum(count(i in V))\n",
    "    x_w = N_wQ / N_WQ\n",
    "    \n",
    "    return x_w, frame"
   ]
  },
  {
   "cell_type": "code",
   "execution_count": 26,
   "metadata": {
    "collapsed": true
   },
   "outputs": [],
   "source": [
    "x_wTrain = normalize_tf(trainQ, token2IdHash)[0]\n",
    "trainQ = normalize_tf(trainQ, token2IdHash)[1]\n",
    "\n",
    "x_wTest = normalize_tf(testQ, token2IdHash)[0]\n",
    "testQ = normalize_tf(testQ, token2IdHash)[1]"
   ]
  },
  {
   "cell_type": "markdown",
   "metadata": {},
   "source": [
    "## Score Each Question in Test Set Against a Specific Answer\n",
    "\n",
    "<img src=\"https://raw.githubusercontent.com/Azure/Document_Matching/master/pic/NB_scores.PNG?token=APoO9vABVheo1aZRkUYQq41utE6VRM1Yks5YnITBwA%3D%3D\">"
   ]
  },
  {
   "cell_type": "code",
   "execution_count": 27,
   "metadata": {
    "collapsed": false
   },
   "outputs": [],
   "source": [
    "beta_A = 0\n",
    "NBScoresTrain = -beta_A + np.dot(x_wTrain.T, NBWeights)\n",
    "NBScoresTest = -beta_A + np.dot(x_wTest.T, NBWeights)"
   ]
  },
  {
   "cell_type": "markdown",
   "metadata": {},
   "source": [
    "## Fit One-vs-Rest SVM using NB Scores and Calibrate SVM Scores into Probabiilty Estimates\n",
    "\n",
    "Traditional SVM training finds a hyperplane which maximally seperates positive and negative training tokens in a vector space. In its standard form, an SVM is a two-class classifier. To create a multi-class SVM for a problem with N_A classes, a one-versus-rest SVM classifier is typically learned for each answer class a. \n",
    "\n",
    "Firstly, we fit a linear one-vs-rest Support Vector Classifier using _svm.LinearSVC()_ from an open-source Python package **Scikit Learn**. The features are used to train the Classifier are Naive Bayes scores obtained on the training set. Like most surpervised learning methods, SVM Classifier outputs scores s(x) that can be used to rank the questions in the test set from the most probable member to the least probable member of a class a. However, those SVM scores are not equivalent to probabilities, especially in a multi-class classification case. \n",
    "\n",
    "In order to map scores into probability estimates, a parametric approach proposed by John Platt for SVM scores consists in finding the parameters A and B for a sigmoid function of the form P(a|X) such that the negative log-likelihood of the data is minimized.\n",
    "\n",
    "<img src=\"https://raw.githubusercontent.com/Azure/Document_Matching/master/pic/calibration.PNG?token=APoO9l6Ra5QZVJjn5tR0-jcQUq8wCdufks5YnLoXwA%3D%3D\">\n",
    "\n",
    "**Scikit Learn** has an implementation of such probability calibration. "
   ]
  },
  {
   "cell_type": "code",
   "execution_count": 28,
   "metadata": {
    "collapsed": false
   },
   "outputs": [],
   "source": [
    "# NB Scores as training features\n",
    "# AnswerIds as targets\n",
    "X_train = NBScoresTrain\n",
    "Y_train = np.array(trainQ['AnswerId'])\n",
    "X_test = NBScoresTest"
   ]
  },
  {
   "cell_type": "code",
   "execution_count": 29,
   "metadata": {
    "collapsed": false
   },
   "outputs": [
    {
     "name": "stdout",
     "output_type": "stream",
     "text": [
      "Wall time: 14min 18s\n"
     ]
    },
    {
     "data": {
      "text/plain": [
       "CalibratedClassifierCV(base_estimator=LinearSVC(C=1.0, class_weight=None, dual=False, fit_intercept=True,\n",
       "     intercept_scaling=1, loss='squared_hinge', max_iter=7,\n",
       "     multi_class='ovr', penalty='l2', random_state=None, tol=0.0001,\n",
       "     verbose=0),\n",
       "            cv=3, method='sigmoid')"
      ]
     },
     "execution_count": 29,
     "metadata": {},
     "output_type": "execute_result"
    }
   ],
   "source": [
    "# first, fit a Linear SVC model \n",
    "est = svm.LinearSVC(dual=False, multi_class='ovr', max_iter=7)\n",
    "# then fit a Calibrated Classifier with 3-fold cross-validation\n",
    "clf = CalibratedClassifierCV(est, cv=3, method='sigmoid')\n",
    "%time clf.fit(X_train, Y_train) "
   ]
  },
  {
   "cell_type": "code",
   "execution_count": 30,
   "metadata": {
    "collapsed": false
   },
   "outputs": [],
   "source": [
    "# predict probabilities on the test set\n",
    "Y_test_pred = clf.predict_proba(X_test)\n",
    "testQ['SVMProb'] = list(Y_test_pred)"
   ]
  },
  {
   "cell_type": "markdown",
   "metadata": {},
   "source": [
    "## Rank the Predicted Probability and Calcualte Average Rank \n",
    "\n",
    "We use two evaluation matrices to test our model performance. For each question in the test set, we calculate a calibrated probability against each answer. Then we rank the answers based on their probabilities to calculate Average Rank and Top 10 Percentage in the Test set using the below formula:\n",
    "\n",
    "<img src=\"https://raw.githubusercontent.com/Azure/Document_Matching/master/pic/evaluation.PNG?token=APoO9hyYDFxGc9FRbmIXU3VGv0wdeCaPks5YnIVtwA%3D%3D\">"
   ]
  },
  {
   "cell_type": "code",
   "execution_count": 31,
   "metadata": {
    "collapsed": true
   },
   "outputs": [],
   "source": [
    "# sort the predicted probability in descending order and map them to the corresponding AnswerId in Answer set\n",
    "def rank(frame, scores, uniqueAnswerId):\n",
    "    frame['SortedAnswers'] = list(np.array(uniqueAnswerId)[np.argsort(-scores, axis=1)])\n",
    "    \n",
    "    rankList = []\n",
    "    for i in range(len(frame)):\n",
    "        rankList.append(np.where(frame['SortedAnswers'].iloc[i] == frame['AnswerId'].iloc[i])[0][0] + 1)\n",
    "    frame['Rank'] = rankList\n",
    "    \n",
    "    return frame"
   ]
  },
  {
   "cell_type": "code",
   "execution_count": 32,
   "metadata": {
    "collapsed": true
   },
   "outputs": [],
   "source": [
    "testQ = rank(testQ, Y_test_pred, uniqueAnswerId)"
   ]
  },
  {
   "cell_type": "code",
   "execution_count": 33,
   "metadata": {
    "collapsed": false
   },
   "outputs": [
    {
     "name": "stdout",
     "output_type": "stream",
     "text": [
      "Average of rank: 38.0\n",
      "Total number of questions in test set: 3671\n",
      "Total number of answers: 1275\n",
      "Total number of unique features: 3184\n",
      "Percentage of questions find answers in top 10: 0.612\n"
     ]
    }
   ],
   "source": [
    "print('Average of rank: ' + str(np.floor(testQ['Rank'].mean())))\n",
    "print('Total number of questions in test set: ' + str(len(testQ)))\n",
    "print('Total number of answers: ' + str(len(uniqueAnswerId)))\n",
    "print('Total number of unique features: ' + str(len(featureHash)))\n",
    "print('Percentage of questions find answers in top 10: ' + str(round(len(testQ.query('Rank <= 10'))/len(testQ), 3)))"
   ]
  },
  {
   "cell_type": "code",
   "execution_count": 35,
   "metadata": {
    "collapsed": false
   },
   "outputs": [],
   "source": [
    "# check some results.\n",
    "# uncomment it to execute.\n",
    "# testQ.query('Rank <= 3')"
   ]
  },
  {
   "cell_type": "markdown",
   "metadata": {},
   "source": [
    "## Plots and Results\n",
    "\n",
    "Same as Part 4, we plot the Average Rank and Top 10 Percentage against different numbers of features we use to train the model. We also experiment with different combination of hyperparameters (alpha, beta, and beta_A) and the best performance on this test set is obtained as below.\n",
    "\n",
    "<img src=\"https://raw.githubusercontent.com/Azure/Document_Matching/master/pic/SVM_results.PNG?token=APoO9tM_VEMo55HNM7JE3r8NkTBV109Wks5YnIluwA%3D%3D\">\n",
    "\n",
    "Please note the script below may take a while to process, so we have provided the results directly. "
   ]
  },
  {
   "cell_type": "code",
   "execution_count": 41,
   "metadata": {
    "collapsed": true
   },
   "outputs": [],
   "source": [
    "def plot(topNList, alpha, beta, beta_A, P_Aw, token2IdHashInit, uniqueAnswerId, trainQ, testQ):\n",
    "\n",
    "    numFeatureList = []\n",
    "    avgRankList = []\n",
    "    top10List = []\n",
    "    \n",
    "    for topN in topNList: \n",
    "        \n",
    "        print('TopN = ' + str(topN))\n",
    "\n",
    "        featureHash = feature_selection(P_Aw, token2IdHashInit, topN)\n",
    "        token2IdHash = tokens_to_ids(trainQ['Tokens'], featureHash)\n",
    "        N_wA = count_matrix(trainQ, token2IdHash, uniqueAnswerId)\n",
    "\n",
    "        P_w = feature_weights(N_wA, alpha)\n",
    "\n",
    "        P_wA = word_probability_in_answer(N_wA, P_w, beta)\n",
    "        P_wNotA = word_probability_Notin_answer(N_wA, P_w, beta)\n",
    "\n",
    "        NBWeights = np.log(P_wA / P_wNotA)\n",
    "\n",
    "        x_wTrain = normalize_tf(trainQ, token2IdHash)[0]\n",
    "        trainQ = normalize_tf(trainQ, token2IdHash)[1]\n",
    "\n",
    "        x_wTest = normalize_tf(testQ, token2IdHash)[0]\n",
    "        testQ = normalize_tf(testQ, token2IdHash)[1]\n",
    "\n",
    "        NBScoresTrain = -beta_A + np.dot(x_wTrain.T, NBWeights)\n",
    "        NBScoresTest = -beta_A + np.dot(x_wTest.T, NBWeights)\n",
    "        \n",
    "        X_train = NBScoresTrain\n",
    "        Y_train = np.array(trainQ['AnswerId'])\n",
    "        X_test = NBScoresTest\n",
    "        \n",
    "        est = svm.LinearSVC(dual=False, multi_class='ovr', max_iter=7)\n",
    "        # determine the number of folders in Cross-valdation\n",
    "        countHash = {}\n",
    "        for i in trainQ['AnswerId']:\n",
    "            if i not in countHash.keys():\n",
    "                countHash[i] = 1\n",
    "            else:\n",
    "                countHash[i] += 1\n",
    "        cv = sorted(countHash.items(), key=operator.itemgetter(1))[0][1]\n",
    "        clf = CalibratedClassifierCV(est, cv=cv, method='sigmoid')\n",
    "        %time clf.fit(X_train, Y_train) \n",
    "\n",
    "        Y_test_pred = clf.predict_proba(X_test)\n",
    "        testQ = rank(testQ, Y_test_pred, uniqueAnswerId)\n",
    "\n",
    "        numFeatureList.append(len(featureHash))\n",
    "        avgRankList.append(np.floor(testQ['Rank'].mean()))\n",
    "        top10List.append(round(len(testQ.query('Rank <= 10'))/len(testQ) * 100, 3) )\n",
    "        \n",
    "        gc.collect() \n",
    "        \n",
    "    gc.collect() \n",
    "\n",
    "    return numFeatureList, avgRankList, top10List"
   ]
  },
  {
   "cell_type": "code",
   "execution_count": 72,
   "metadata": {
    "collapsed": true
   },
   "outputs": [],
   "source": [
    "topNList = [1, 2, 3, 4, 5, 10, 20, 30, 50, 80, 100, 300, 500, 1000, len(token2IdHashInit)]\n",
    "alpha = 0.0001\n",
    "beta = 0.0001\n",
    "beta_A = 0"
   ]
  },
  {
   "cell_type": "code",
   "execution_count": null,
   "metadata": {
    "collapsed": false
   },
   "outputs": [],
   "source": [
    "# Note: this process may take a few hours to complete dependes on the machine that you're running on. \n",
    "# Uncomment the script when you're ready to run.\n",
    "# %time numFeatureList, avgRankList, top10List = plot(topNList, alpha, beta, beta_A, P_Aw, token2IdHashInit, uniqueAnswerId, trainQ, testQ)"
   ]
  },
  {
   "cell_type": "code",
   "execution_count": 7,
   "metadata": {
    "collapsed": true
   },
   "outputs": [],
   "source": [
    "# Results from the plot() function with different number of features.\n",
    "topNList = [1, 2, 3, 4, 5, 10, 20, 30, 50, 80, 100, 300, 500, 1000, 4977]\n",
    "numFeatureList = [655, 1077, 1439, 1743, 2043, 3181, 4458, 4739, 4868, 4898, 4921, 4970, 4977, 4977, 4977]\n",
    "avgRankList_SVM = [69.0, 53.0, 48.0, 40.0, 39.0, 37.0, 37.0, 38.0, 38.0, 37.0, 37.0, 38.0, 38.0, 38.0, 38.0]\n",
    "top10List_SVM = [52.168, 55.979, 57.532, 60.065, 59.956, 61.101, 61.373, 61.972, 62.136, 61.782, 61.782, 61.863, 61.863, 61.863, 61.863]\n",
    "\n",
    "# Results from Naive Bayes Classifier in Part 4.\n",
    "avgRankList_NB = [59.0, 45.0, 44.0, 44.0, 44.0, 46.0, 48.0, 48.0, 49.0, 49.0, 49.0, 49.0, 49.0, 49.0, 49.0]\n",
    "top10List_NB = [58.05, 60.91, 61.673, 61.645, 61.782, 61.182, 61.618, 61.863, 61.89, 61.918, 61.999, 62.027, 62.027, 62.027, 62.027]"
   ]
  },
  {
   "cell_type": "code",
   "execution_count": 14,
   "metadata": {
    "collapsed": false
   },
   "outputs": [
    {
     "data": {
      "image/png": "[encoded data removed]",
      "text/plain": [
       "<matplotlib.figure.Figure at 0x130cfd40cf8>"
      ]
     },
     "metadata": {},
     "output_type": "display_data"
    }
   ],
   "source": [
    "import matplotlib.pyplot as plt\n",
    "line1, = plt.plot(numFeatureList, avgRankList_NB, linestyle='-', marker='o', color='red')\n",
    "line2, = plt.plot(numFeatureList, avgRankList_SVM, linestyle='-', marker='^', color='green')\n",
    "plt.xlabel('Number of Features')\n",
    "plt.ylabel('Average Rank')\n",
    "plt.xlim([500,5500])\n",
    "plt.ylim([35,70])\n",
    "ax = plt.axes()        \n",
    "ax.yaxis.grid(True) # horizontal lines\n",
    "ax.legend(handles=[line1, line2], labels=['Naive Bayes', 'Calibrated SVM with NB Scores'], loc=1)\n",
    "plt.show()\n",
    "plt.close()"
   ]
  },
  {
   "cell_type": "code",
   "execution_count": 18,
   "metadata": {
    "collapsed": false,
    "scrolled": true
   },
   "outputs": [
    {
     "data": {
      "image/png": "[encoded data removed]",
      "text/plain": [
       "<matplotlib.figure.Figure at 0x130cfe592b0>"
      ]
     },
     "metadata": {},
     "output_type": "display_data"
    }
   ],
   "source": [
    "line1, = plt.plot(numFeatureList, top10List_NB, linestyle='-', marker='o', color='red')\n",
    "line2, = plt.plot(numFeatureList, top10List_SVM, linestyle='-', marker='^', color='green')\n",
    "plt.xlabel('Number of Features')\n",
    "plt.ylabel('Top 10 (%)')\n",
    "plt.xlim([500,5500])\n",
    "plt.ylim([50,65])\n",
    "ax = plt.axes()        \n",
    "ax.yaxis.grid(True) # horizontal lines\n",
    "ax.legend(handles=[line1, line2], labels=['Naive Bayes', 'Calibrated SVM with NB Scores'], loc=4)\n",
    "plt.show()\n",
    "plt.close()"
   ]
  }
 ],
 "metadata": {
  "anaconda-cloud": {},
  "kernelspec": {
   "display_name": "Python [default]",
   "language": "python",
   "name": "python3"
  },
  "language_info": {
   "codemirror_mode": {
    "name": "ipython",
    "version": 3
   },
   "file_extension": ".py",
   "mimetype": "text/x-python",
   "name": "python",
   "nbconvert_exporter": "python",
   "pygments_lexer": "ipython3",
   "version": "3.5.2"
  }
 },
 "nbformat": 4,
 "nbformat_minor": 1
}
