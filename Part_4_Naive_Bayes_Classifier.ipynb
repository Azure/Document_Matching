{
 "cells": [
  {
   "cell_type": "markdown",
   "metadata": {},
   "source": [
    "# Document (QnA) Matching Data Science Process\n",
    "\n",
    "## Part 4: Naive Bayes Classifier\n",
    "\n",
    "### Overview\n",
    "\n",
    "This notebook is Part 1 of 5, in a series providing a step-by-step description of how to create discriminative training methods to match the correct answer to a given question. Using Python packages and custom code examples, we have implemented the basic framework that combines key phrase learning and latent topic modeling as described in the paper entitled [\"Modeling Multiword Phrases with Constrained Phrases Tree for Improved Topic Modeling of Conversational Speech\"](http://people.csail.mit.edu/hazen/publications/Hazen-SLT-2012.pdf) which was originally presented in the 2012 IEEE Workshop on Spoken Language Technology.\n",
    "\n",
    "Although the paper examines the use of the technology for analyzing human-to-human conversations, the techniques are quite general and can be applied to a wide range of natural language data including news stories, legal documents, research publications, social media forum discussions, customer feedback forms, product reviews, and many more.\n",
    "\n",
    "Also, we implement a Naive Bayes Classifier as described in the paper entitled [\"MCE Training Techniques for Topic Identification of Spoken Audio Documents\"](http://ieeexplore.ieee.org/abstract/document/5742980/). \n",
    "\n",
    "Part 4 of the series shows the implementation of the Navie Bayes Classifier.\n",
    "\n",
    "Note: This notebook series are built under Python 3.5 and NLTK 3.2.2."
   ]
  },
  {
   "cell_type": "markdown",
   "metadata": {},
   "source": [
    "## Import required Python modules"
   ]
  },
  {
   "cell_type": "code",
   "execution_count": 2,
   "metadata": {
    "collapsed": false
   },
   "outputs": [],
   "source": [
    "import pandas as pd\n",
    "import math\n",
    "import numpy as np\n",
    "import matplotlib\n",
    "import matplotlib.pyplot as plt\n",
    "from azure.storage import CloudStorageAccount\n",
    "from IPython.display import display\n",
    "\n",
    "%matplotlib inline\n",
    "\n",
    "# suppress all warnings\n",
    "import warnings\n",
    "warnings.filterwarnings(\"ignore\")"
   ]
  },
  {
   "cell_type": "markdown",
   "metadata": {},
   "source": [
    "## Read trainQ and testQ into Pandas DataFrames"
   ]
  },
  {
   "cell_type": "code",
   "execution_count": 4,
   "metadata": {
    "collapsed": false
   },
   "outputs": [],
   "source": [
    "trainQ_url = 'https://mezsa.blob.core.windows.net/stackoverflow/trainQwithTokens.tsv'\n",
    "testQ_url = 'https://mezsa.blob.core.windows.net/stackoverflow/testQwithTokens.tsv'\n",
    "\n",
    "trainQ = pd.read_csv(trainQ_url, sep='\\t', index_col='Id', encoding='latin1')\n",
    "testQ = pd.read_csv(testQ_url, sep='\\t', index_col='Id', encoding='latin1')"
   ]
  },
  {
   "cell_type": "markdown",
   "metadata": {},
   "source": [
    "## Create Tokens to IDs Hash\n",
    "\n",
    "For each token in the entire vocabulary, we assign it an unique ID."
   ]
  },
  {
   "cell_type": "code",
   "execution_count": 5,
   "metadata": {
    "collapsed": true
   },
   "outputs": [],
   "source": [
    "# get Token to ID mapping: {Token: tokenId}\n",
    "def tokens_to_ids(tokens, featureHash):\n",
    "    token2IdHash = {}\n",
    "    for i in range(len(tokens)):\n",
    "        tokenList = tokens.iloc[i].split(',')\n",
    "        if featureHash is None:\n",
    "            for t in tokenList:\n",
    "                if t not in token2IdHash.keys():\n",
    "                    token2IdHash[t] = len(token2IdHash)\n",
    "        else:\n",
    "            for t in tokenList:\n",
    "                if t not in token2IdHash.keys() and t in list(featureHash.keys()):\n",
    "                    token2IdHash[t] = len(token2IdHash)\n",
    "            \n",
    "    return token2IdHash"
   ]
  },
  {
   "cell_type": "code",
   "execution_count": 6,
   "metadata": {
    "collapsed": false
   },
   "outputs": [],
   "source": [
    "token2IdHashInit = tokens_to_ids(trainQ['Tokens'], None)"
   ]
  },
  {
   "cell_type": "code",
   "execution_count": 8,
   "metadata": {
    "collapsed": false
   },
   "outputs": [
    {
     "name": "stdout",
     "output_type": "stream",
     "text": [
      "Total number of unique tokens in the TrainQ: 4977\n"
     ]
    }
   ],
   "source": [
    "print(\"Total number of unique tokens in the TrainQ: \" + str(len(token2IdHashInit)))"
   ]
  },
  {
   "cell_type": "markdown",
   "metadata": {},
   "source": [
    "## Create Count Matrix for Each Token in Each Answer"
   ]
  },
  {
   "cell_type": "code",
   "execution_count": 12,
   "metadata": {
    "collapsed": false
   },
   "outputs": [],
   "source": [
    "def count_matrix(frame, token2IdHash, uniqueAnswerId):\n",
    "    # create am empty matrix with the shape of:\n",
    "    # num_row = num of unique tokens\n",
    "    # num_column = num of unique answerIds (N_wA) or num of questions in testQ (tfMatrix)\n",
    "    # rowIdx = token2IdHash.values()\n",
    "    # colIdx = index of uniqueAnswerId (N_wA) or index of questions in testQ (tfMatrix)\n",
    "    num_row = len(token2IdHash)\n",
    "    if uniqueAnswerId is not None:  # get N_wA\n",
    "        num_column = len(uniqueAnswerId)\n",
    "    else:\n",
    "        num_column = len(frame)\n",
    "    countMatrix = np.empty(shape=(num_row, num_column))\n",
    "\n",
    "    # loop through each question in the frame to fill in the countMatrix with corresponding counts\n",
    "    for i in range(len(frame)):\n",
    "        tokens = frame['Tokens'].iloc[i].split(',')\n",
    "        if uniqueAnswerId is not None:   # get N_wA\n",
    "            answerId = frame['AnswerId'].iloc[i]\n",
    "            colIdx = uniqueAnswerId.index(answerId)\n",
    "        else:\n",
    "            colIdx = i\n",
    "            \n",
    "        for t in tokens:\n",
    "            if t in token2IdHash.keys():\n",
    "                rowIdx = token2IdHash[t]\n",
    "                countMatrix[rowIdx, colIdx] += 1\n",
    "\n",
    "    return countMatrix"
   ]
  },
  {
   "cell_type": "code",
   "execution_count": 13,
   "metadata": {
    "collapsed": true
   },
   "outputs": [],
   "source": [
    "# get unique answerId in ascending order\n",
    "uniqueAnswerId = list(np.unique(trainQ['AnswerId']))\n",
    "# calculate the count matrix of all training questions.\n",
    "N_wAInit = count_matrix(trainQ, token2IdHashInit, uniqueAnswerId)"
   ]
  },
  {
   "cell_type": "markdown",
   "metadata": {},
   "source": [
    "## Feature Selection Based on Posteriori Probability P(A|w) \n",
    "\n",
    "<img src=\"https://raw.githubusercontent.com/Azure/Document_Matching/master/pic/feature_selection.PNG?token=APoO9ioyiKq8Sx0dxZ5onqIzyy6ywUmEks5YnH6cwA%3D%3D\">"
   ]
  },
  {
   "cell_type": "code",
   "execution_count": 14,
   "metadata": {
    "collapsed": true
   },
   "outputs": [],
   "source": [
    "# calculate P(A): [P_A1, P_A2, ...]\n",
    "def prior_probability_answer(answerIds, uniqueAnswerId): \n",
    "    P_A = []\n",
    "    # convert a pandas series to a list\n",
    "    answerIds = list(answerIds)\n",
    "    \n",
    "    for id in uniqueAnswerId:\n",
    "        P_A.append(answerIds.count(id)/len(answerIds))\n",
    "    return np.array(P_A)"
   ]
  },
  {
   "cell_type": "code",
   "execution_count": 18,
   "metadata": {
    "collapsed": false
   },
   "outputs": [],
   "source": [
    "P_A = prior_probability_answer(trainQ['AnswerId'], uniqueAnswerId)"
   ]
  },
  {
   "cell_type": "code",
   "execution_count": 16,
   "metadata": {
    "collapsed": true
   },
   "outputs": [],
   "source": [
    "# calculate P(A|w)\n",
    "def posteriori_prob(N_wAInit, P_A, uniqueAnswerId):\n",
    "    # N_A is the total number of answers\n",
    "    N_A = len(uniqueAnswerId)\n",
    "    # N_w is the total number of times w appears over all documents \n",
    "    # rowSum of count matrix (N_wAInit)\n",
    "    N_wInit = np.sum(N_wAInit, axis = 1)\n",
    "    # P(A|w) = (N_w|A + N_A * P(A))/(N_w + N_A)\n",
    "    N = N_wAInit + N_A * P_A\n",
    "    D = N_wInit + N_A\n",
    "    P_Aw = np.divide(N.T, D).T    \n",
    "    \n",
    "    return P_Aw"
   ]
  },
  {
   "cell_type": "code",
   "execution_count": 19,
   "metadata": {
    "collapsed": false
   },
   "outputs": [],
   "source": [
    "P_Aw = posteriori_prob(N_wAInit, P_A, uniqueAnswerId)"
   ]
  },
  {
   "cell_type": "code",
   "execution_count": 20,
   "metadata": {
    "collapsed": false
   },
   "outputs": [],
   "source": [
    "# select the top N tokens w which maximize P(A|w) for each A.\n",
    "# get FeatureHash: {token: 1}\n",
    "def feature_selection(P_Aw, token2IdHashInit, topN):\n",
    "    featureHash = {}\n",
    "    # for each answer A, sort tokens w by P(A|w)\n",
    "    sortedIdxMatrix = np.argsort(P_Aw, axis=0)[::-1]\n",
    "    # select top N tokens for each answer A\n",
    "    topMatrix = sortedIdxMatrix[0:topN, :]\n",
    "    # for each token w in topMatrix, add w to FeatureHash if it has not already been included\n",
    "    topTokenIdList = np.reshape(topMatrix, topMatrix.shape[0] * topMatrix.shape[1])\n",
    "    # get ID to Token mapping: {tokenId: Token}\n",
    "    Id2TokenHashInit = {y:x for x, y in token2IdHashInit.items()}\n",
    "    \n",
    "    for tokenId in topTokenIdList:\n",
    "        token = Id2TokenHashInit[tokenId]\n",
    "        if token not in featureHash.keys():\n",
    "            featureHash[token] = 1\n",
    "    return featureHash"
   ]
  },
  {
   "cell_type": "code",
   "execution_count": 21,
   "metadata": {
    "collapsed": false
   },
   "outputs": [],
   "source": [
    "topN = 4\n",
    "featureHash = feature_selection(P_Aw, token2IdHashInit, topN)"
   ]
  },
  {
   "cell_type": "markdown",
   "metadata": {},
   "source": [
    "## Re-assign ID to Each Selected Token and Re-calculate Count Matrix\n",
    "\n",
    "After selecting the top N tokens of each answer, we use the collection of selected tokens for training and re-assign an ID to each selected token. Based on the new assigned IDs, we re-calculate the Count Matrix."
   ]
  },
  {
   "cell_type": "code",
   "execution_count": 22,
   "metadata": {
    "collapsed": true
   },
   "outputs": [],
   "source": [
    "token2IdHash = tokens_to_ids(trainQ['Tokens'], featureHash)"
   ]
  },
  {
   "cell_type": "code",
   "execution_count": 23,
   "metadata": {
    "collapsed": false,
    "scrolled": true
   },
   "outputs": [],
   "source": [
    "N_wA = count_matrix(trainQ, token2IdHash, uniqueAnswerId)"
   ]
  },
  {
   "cell_type": "markdown",
   "metadata": {},
   "source": [
    "## Calculate P(w) on Full Collection of Training Questions (w is selected token)\n",
    "\n",
    "<img src=\"https://raw.githubusercontent.com/Azure/Document_Matching/master/pic/P_w.PNG?token=APoO9vsVzM00o3cEfOPq5mUeQ_2eJK94ks5YnH6ywA%3D%3D\">"
   ]
  },
  {
   "cell_type": "code",
   "execution_count": 24,
   "metadata": {
    "collapsed": true
   },
   "outputs": [],
   "source": [
    "def feature_weights(N_wA, alpha):\n",
    "    # N_w is the total number of times w appears over all documents \n",
    "    # rowSum of count matrix (N_wA)\n",
    "    N_w = np.sum(N_wA, axis = 1)\n",
    "    # N_W is the total count of all words\n",
    "    N_W = np.sum(N_wA)\n",
    "    # N_V is the count of unique words in the vocabulary\n",
    "    N_V = N_wA.shape[0]\n",
    "    # P(w) = (N_w + 1*alpha) / (N_W +N_V*alpha)\n",
    "    N2 = N_w + 1 * alpha\n",
    "    D2 = N_W + alpha * N_V\n",
    "    P_w = N2/D2\n",
    "\n",
    "    return P_w"
   ]
  },
  {
   "cell_type": "code",
   "execution_count": 25,
   "metadata": {
    "collapsed": false
   },
   "outputs": [],
   "source": [
    "alpha = 0.0001\n",
    "P_w = feature_weights(N_wA, alpha)"
   ]
  },
  {
   "cell_type": "markdown",
   "metadata": {},
   "source": [
    "## Calculate Probability Function P(w|A) and P(w|NotA) on Training Data\n",
    "\n",
    "<img src=\"https://raw.githubusercontent.com/Azure/Document_Matching/master/pic/probability_function.PNG?token=APoO9rWEZ1g_OgvWT_pleQlhT2DEFw3tks5YnIHzwA%3D%3D\">"
   ]
  },
  {
   "cell_type": "code",
   "execution_count": 26,
   "metadata": {
    "collapsed": true
   },
   "outputs": [],
   "source": [
    "def word_probability_in_answer(N_wA, P_w, beta):\n",
    "    # N_V is the count of unique words in the vocabulary\n",
    "    N_V = N_wA.shape[0]\n",
    "    # N_WA is the total count of all words in questions on answer A \n",
    "    # colSum of count matrix (N_wA)\n",
    "    N_WA = np.sum(N_wA, axis=0)\n",
    "    # P(w|A) = (N_w|A + beta N_V P(w))/(N_W|A + beta * N_V)\n",
    "    N = (N_wA.T + beta * N_V * P_w).T\n",
    "    D = N_WA + beta * N_V\n",
    "    P_wA = N / D\n",
    "    \n",
    "    return P_wA"
   ]
  },
  {
   "cell_type": "code",
   "execution_count": 27,
   "metadata": {
    "collapsed": true
   },
   "outputs": [],
   "source": [
    "def word_probability_Notin_answer(N_wA, P_w, beta):\n",
    "    # N_V is the count of unique words in the vocabulary\n",
    "    N_V = N_wA.shape[0]\n",
    "    # N_wNotA is the count of w over all documents but not on answer A\n",
    "    # N_wNotA = N_w - N_wA\n",
    "    N_w = np.sum(N_wA, axis = 1)\n",
    "    N_wNotA = (N_w - N_wA.T).T\n",
    "    # N_WNotA is the count of all words over all documents but not on answer A\n",
    "    # N_WNotA = N_W - N_WA\n",
    "    N_W = np.sum(N_wA)\n",
    "    N_WA = np.sum(N_wA, axis=0)\n",
    "    N_WNotA = N_W - N_WA\n",
    "    # P(w|NotA) = (N_w|NotA + beta * N_V * P(w))/(N_W|NotA + beta * N_V)\n",
    "    N = (N_wNotA.T + beta * N_V * P_w).T\n",
    "    D = N_WNotA + beta * N_V\n",
    "    P_wNotA = N / D\n",
    "    \n",
    "    return P_wNotA"
   ]
  },
  {
   "cell_type": "code",
   "execution_count": 28,
   "metadata": {
    "collapsed": false
   },
   "outputs": [],
   "source": [
    "beta = 0.0001\n",
    "P_wA = word_probability_in_answer(N_wA, P_w, beta)\n",
    "P_wNotA = word_probability_Notin_answer(N_wA, P_w, beta)"
   ]
  },
  {
   "cell_type": "markdown",
   "metadata": {},
   "source": [
    "## Calculate Naive Bayes Weights\n",
    "\n",
    "<img src=\"https://raw.githubusercontent.com/Azure/Document_Matching/master/pic/NB_weight.PNG?token=APoO9s-2DejCvW03RgK6zXgiXX6UT5WWks5YnjiRwA%3D%3D\">"
   ]
  },
  {
   "cell_type": "code",
   "execution_count": 29,
   "metadata": {
    "collapsed": false
   },
   "outputs": [],
   "source": [
    "# given an answer set A, get the NB weights for each word w: {answerId: [(word_index1, weight1), (word_index2, weight2)]}\n",
    "NBWeights = np.log(P_wA / P_wNotA)"
   ]
  },
  {
   "cell_type": "markdown",
   "metadata": {},
   "source": [
    "## Calculate Normalized TF of Each Word w in Test Set\n",
    "\n",
    "Each document/question d is typically represented by a feature vector x that represents the contents of d. Because different documents can have different lengths, it can be useful to apply L1 normalmalized feature vector x. \n",
    "\n",
    "<img src=\"https://raw.githubusercontent.com/Azure/Document_Matching/master/pic/tf.PNG?token=APoO9tMyEVzqoUJYT9ALcdF3_BryHHEVks5YnIQywA%3D%3D\">"
   ]
  },
  {
   "cell_type": "code",
   "execution_count": 30,
   "metadata": {
    "collapsed": false
   },
   "outputs": [],
   "source": [
    "def normalize_tf(frame, token2IdHash):\n",
    "    N_wQ = count_matrix(frame, token2IdHash, None)\n",
    "    N_WQ = np.sum(N_wQ, axis=0)\n",
    "    \n",
    "    # find the index where N_WQ is zero and remove those columns from N_wQ\n",
    "    removeIdx = np.where(N_WQ == 0)[0]\n",
    "    \n",
    "    if len(removeIdx) > 0:\n",
    "        # remove the questions where the TF is NaN\n",
    "        N_wQ = np.delete(N_wQ, removeIdx, axis=1)\n",
    "        N_WQ = np.delete(N_WQ, removeIdx, axis=0)\n",
    "        frame = frame.drop(frame.index[removeIdx])\n",
    "    \n",
    "    # x_w = P_wd = count(w)/sum(count(i in V))\n",
    "    x_w = N_wQ / N_WQ\n",
    "    \n",
    "    return x_w, frame"
   ]
  },
  {
   "cell_type": "code",
   "execution_count": 31,
   "metadata": {
    "collapsed": false
   },
   "outputs": [],
   "source": [
    "x_w = normalize_tf(testQ, token2IdHash)[0]\n",
    "testQ = normalize_tf(testQ, token2IdHash)[1]"
   ]
  },
  {
   "cell_type": "markdown",
   "metadata": {},
   "source": [
    "## Score Each Question in Test Set Against a Specific Answer\n",
    "\n",
    "<img src=\"https://raw.githubusercontent.com/Azure/Document_Matching/master/pic/NB_scores.PNG?token=APoO9vABVheo1aZRkUYQq41utE6VRM1Yks5YnITBwA%3D%3D\">"
   ]
  },
  {
   "cell_type": "code",
   "execution_count": 32,
   "metadata": {
    "collapsed": true
   },
   "outputs": [],
   "source": [
    "beta_A = 0\n",
    "NBScores = -beta_A + np.dot(x_w.T, NBWeights)"
   ]
  },
  {
   "cell_type": "markdown",
   "metadata": {},
   "source": [
    "## Rank the Naive Bayes Scores and Calcualte Average Rank \n",
    "\n",
    "We use two evaluation matrices to test our model performance. For each question in the test set, we calculate a Naive Bayes score against each answer. Then we rank the answers based on their Naive Bayes scores to calculate Average Rank and Top 10 Percentage in the Test set using the below formula:\n",
    "\n",
    "<img src=\"https://raw.githubusercontent.com/Azure/Document_Matching/master/pic/evaluation.PNG?token=APoO9hyYDFxGc9FRbmIXU3VGv0wdeCaPks5YnIVtwA%3D%3D\">"
   ]
  },
  {
   "cell_type": "code",
   "execution_count": 36,
   "metadata": {
    "collapsed": false
   },
   "outputs": [],
   "source": [
    "# sort the similarity scores in descending order and map them to the corresponding AnswerId in Answer set\n",
    "def rank(frame, scores, uniqueAnswerId):\n",
    "    frame['SortedAnswers'] = list(np.array(uniqueAnswerId)[np.argsort(-scores, axis=1)])\n",
    "    \n",
    "    rankList = []\n",
    "    for i in range(len(frame)):\n",
    "        rankList.append(np.where(frame['SortedAnswers'].iloc[i] == frame['AnswerId'].iloc[i])[0][0] + 1)\n",
    "    frame['Rank'] = rankList\n",
    "    \n",
    "    return frame"
   ]
  },
  {
   "cell_type": "code",
   "execution_count": 37,
   "metadata": {
    "collapsed": true
   },
   "outputs": [],
   "source": [
    "testQ = rank(testQ, NBScores, uniqueAnswerId)"
   ]
  },
  {
   "cell_type": "code",
   "execution_count": 38,
   "metadata": {
    "collapsed": false
   },
   "outputs": [
    {
     "name": "stdout",
     "output_type": "stream",
     "text": [
      "Average of rank: 44.0\n",
      "Total number of questions in test set: 3671\n",
      "Total number of answers: 1275\n",
      "Total number of unique features: 1744\n",
      "Percentage of questions find answers in top 10: 0.617\n"
     ]
    }
   ],
   "source": [
    "print('Average of rank: ' + str(np.floor(testQ['Rank'].mean())))\n",
    "print('Total number of questions in test set: ' + str(len(testQ)))\n",
    "print('Total number of answers: ' + str(len(uniqueAnswerId)))\n",
    "print('Total number of unique features: ' + str(len(featureHash)))\n",
    "print('Percentage of questions find answers in top 10: ' + str(round(len(testQ.query('Rank <= 10'))/len(testQ), 3)))"
   ]
  },
  {
   "cell_type": "code",
   "execution_count": 48,
   "metadata": {
    "collapsed": false
   },
   "outputs": [],
   "source": [
    "# check some results.\n",
    "# uncomment it to execute.\n",
    "# testQ.query('Rank <= 3')"
   ]
  },
  {
   "cell_type": "markdown",
   "metadata": {},
   "source": [
    "## Plots and Results\n",
    "\n",
    "We plot the Average Rank and Top 10 Percentage against different numbers of features we use to train the model. We also experiment with different combination of hyperparameters (alpha, beta, and beta_A) and the best performance on this test set is obtained as below.\n",
    "\n",
    "By implementing the Naive Bayes Classifier, we have improved the Average Rank from 70 (Part 3) to 44 and Top 10 Percentage from 38.5% (Part 3) to 61.8%. \n",
    "\n",
    "<img src=\"https://raw.githubusercontent.com/Azure/Document_Matching/master/pic/NB_results.PNG?token=APoO9nc26klRGnm1aTRvmLgAk1UF7SSKks5YnIhvwA%3D%3D\">"
   ]
  },
  {
   "cell_type": "code",
   "execution_count": 40,
   "metadata": {
    "collapsed": true
   },
   "outputs": [],
   "source": [
    "def plot(topNList, alpha, beta, beta_A, P_Aw, token2IdHashInit, uniqueAnswerId, trainQ, testQ):\n",
    "\n",
    "    numFeatureList = []\n",
    "    avgRankList = []\n",
    "    top10List = []\n",
    "    \n",
    "    for topN in topNList: \n",
    "        \n",
    "        print('TopN = ' + str(topN))\n",
    "\n",
    "        featureHash = feature_selection(P_Aw, token2IdHashInit, topN)\n",
    "        token2IdHash = tokens_to_ids(trainQ['Tokens'], featureHash)\n",
    "        N_wA = count_matrix(trainQ, token2IdHash, uniqueAnswerId)\n",
    "\n",
    "        P_w = feature_weights(N_wA, alpha)\n",
    "\n",
    "        P_wA = word_probability_in_answer(N_wA, P_w, beta)\n",
    "        P_wNotA = word_probability_Notin_answer(N_wA, P_w, beta)\n",
    "\n",
    "        NBWeights = np.log(P_wA / P_wNotA)\n",
    "\n",
    "        x_w = normalize_tf(testQ, token2IdHash)[0]\n",
    "        testQ = normalize_tf(testQ, token2IdHash)[1]\n",
    "\n",
    "        NBScores = -beta_A + np.dot(x_w.T, NBWeights)\n",
    "        \n",
    "        testQ = rank(testQ, NBScores, uniqueAnswerId)\n",
    "\n",
    "        numFeatureList.append(len(featureHash))\n",
    "        avgRankList.append(np.floor(testQ['Rank'].mean()))\n",
    "        top10List.append(round(len(testQ.query('Rank <= 10'))/len(testQ) * 100, 3) )\n",
    "\n",
    "    return numFeatureList, avgRankList, top10List"
   ]
  },
  {
   "cell_type": "code",
   "execution_count": 43,
   "metadata": {
    "collapsed": false
   },
   "outputs": [
    {
     "name": "stdout",
     "output_type": "stream",
     "text": [
      "TopN = 1\n",
      "TopN = 2\n",
      "TopN = 3\n",
      "TopN = 4\n",
      "TopN = 5\n",
      "TopN = 10\n",
      "TopN = 20\n",
      "TopN = 30\n",
      "TopN = 50\n",
      "TopN = 80\n",
      "TopN = 100\n",
      "TopN = 300\n",
      "TopN = 500\n",
      "TopN = 1000\n",
      "TopN = 4977\n",
      "Wall time: 1min 14s\n"
     ]
    }
   ],
   "source": [
    "topNList = [1, 2, 3, 4, 5, 10, 20, 30, 50, 80, 100, 300, 500, 1000, len(token2IdHashInit)]\n",
    "alpha = 0.0001\n",
    "beta = 0.0001\n",
    "beta_A = 0\n",
    "%time numFeatureList, avgRankList, top10List = plot(topNList, alpha, beta, beta_A, P_Aw, token2IdHashInit, uniqueAnswerId, trainQ, testQ)"
   ]
  },
  {
   "cell_type": "code",
   "execution_count": 45,
   "metadata": {
    "collapsed": false
   },
   "outputs": [
    {
     "data": {
      "image/png": "[encoded data removed]",
      "text/plain": [
       "<matplotlib.figure.Figure at 0x25af205a438>"
      ]
     },
     "metadata": {},
     "output_type": "display_data"
    }
   ],
   "source": [
    "import matplotlib.pyplot as plt\n",
    "plt.plot(numFeatureList, avgRankList, linestyle='-', marker='o', color='b')\n",
    "plt.xlabel('Number of Features')\n",
    "plt.ylabel('Average Rank')\n",
    "plt.xlim([500,5500])\n",
    "plt.ylim([40,65])\n",
    "ax = plt.axes()        \n",
    "ax.yaxis.grid(True) # horizontal lines\n",
    "plt.show()\n",
    "plt.close()"
   ]
  },
  {
   "cell_type": "code",
   "execution_count": 46,
   "metadata": {
    "collapsed": false,
    "scrolled": false
   },
   "outputs": [
    {
     "data": {
      "image/png": "[encoded data removed]",
      "text/plain": [
       "<matplotlib.figure.Figure at 0x25a85d51198>"
      ]
     },
     "metadata": {},
     "output_type": "display_data"
    }
   ],
   "source": [
    "plt.plot(numFeatureList, top10List, linestyle='-', marker='o', color='b')\n",
    "plt.xlabel('Number of Features')\n",
    "plt.ylabel('Top 10 (%)')\n",
    "plt.xlim([500,5500])\n",
    "ax = plt.axes()        \n",
    "ax.yaxis.grid(True) # horizontal lines\n",
    "plt.show()\n",
    "plt.close()"
   ]
  }
 ],
 "metadata": {
  "anaconda-cloud": {},
  "kernelspec": {
   "display_name": "Python [default]",
   "language": "python",
   "name": "python3"
  },
  "language_info": {
   "codemirror_mode": {
    "name": "ipython",
    "version": 3
   },
   "file_extension": ".py",
   "mimetype": "text/x-python",
   "name": "python",
   "nbconvert_exporter": "python",
   "pygments_lexer": "ipython3",
   "version": "3.5.2"
  }
 },
 "nbformat": 4,
 "nbformat_minor": 1
}
